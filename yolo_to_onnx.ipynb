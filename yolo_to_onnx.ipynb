{
 "cells": [
  {
   "cell_type": "code",
   "execution_count": 1,
   "metadata": {},
   "outputs": [
    {
     "name": "stdout",
     "output_type": "stream",
     "text": [
      "Collecting onnx==1.16.1Note: you may need to restart the kernel to use updated packages.\n",
      "\n",
      "  Downloading onnx-1.16.1-cp311-cp311-win_amd64.whl.metadata (16 kB)\n",
      "Requirement already satisfied: numpy>=1.20 in c:\\users\\lewis do\\anaconda3\\lib\\site-packages (from onnx==1.16.1) (1.26.3)\n",
      "Requirement already satisfied: protobuf>=3.20.2 in c:\\users\\lewis do\\anaconda3\\lib\\site-packages (from onnx==1.16.1) (5.29.3)\n",
      "Downloading onnx-1.16.1-cp311-cp311-win_amd64.whl (14.4 MB)\n",
      "   ---------------------------------------- 0.0/14.4 MB ? eta -:--:--\n",
      "    --------------------------------------- 0.3/14.4 MB ? eta -:--:--\n",
      "   -- ------------------------------------- 0.8/14.4 MB 2.6 MB/s eta 0:00:06\n",
      "   -- ------------------------------------- 1.0/14.4 MB 2.5 MB/s eta 0:00:06\n",
      "   --- ------------------------------------ 1.3/14.4 MB 2.1 MB/s eta 0:00:07\n",
      "   ---- ----------------------------------- 1.6/14.4 MB 2.0 MB/s eta 0:00:07\n",
      "   ------- -------------------------------- 2.6/14.4 MB 2.3 MB/s eta 0:00:06\n",
      "   ------- -------------------------------- 2.6/14.4 MB 2.3 MB/s eta 0:00:06\n",
      "   -------- ------------------------------- 3.1/14.4 MB 2.2 MB/s eta 0:00:06\n",
      "   ---------- ----------------------------- 3.9/14.4 MB 2.2 MB/s eta 0:00:05\n",
      "   ----------- ---------------------------- 4.2/14.4 MB 2.2 MB/s eta 0:00:05\n",
      "   ------------- -------------------------- 4.7/14.4 MB 2.3 MB/s eta 0:00:05\n",
      "   -------------- ------------------------- 5.2/14.4 MB 2.2 MB/s eta 0:00:05\n",
      "   --------------- ------------------------ 5.8/14.4 MB 2.2 MB/s eta 0:00:04\n",
      "   ----------------- ---------------------- 6.3/14.4 MB 2.2 MB/s eta 0:00:04\n",
      "   ------------------ --------------------- 6.8/14.4 MB 2.3 MB/s eta 0:00:04\n",
      "   ------------------- -------------------- 7.1/14.4 MB 2.2 MB/s eta 0:00:04\n",
      "   --------------------- ------------------ 7.6/14.4 MB 2.2 MB/s eta 0:00:04\n",
      "   ---------------------- ----------------- 8.1/14.4 MB 2.2 MB/s eta 0:00:03\n",
      "   ----------------------- ---------------- 8.4/14.4 MB 2.2 MB/s eta 0:00:03\n",
      "   ------------------------- -------------- 9.2/14.4 MB 2.2 MB/s eta 0:00:03\n",
      "   -------------------------- ------------- 9.7/14.4 MB 2.2 MB/s eta 0:00:03\n",
      "   --------------------------- ------------ 10.0/14.4 MB 2.2 MB/s eta 0:00:02\n",
      "   ----------------------------- ---------- 10.5/14.4 MB 2.2 MB/s eta 0:00:02\n",
      "   ------------------------------ --------- 11.0/14.4 MB 2.2 MB/s eta 0:00:02\n",
      "   ------------------------------- -------- 11.3/14.4 MB 2.2 MB/s eta 0:00:02\n",
      "   -------------------------------- ------- 11.8/14.4 MB 2.2 MB/s eta 0:00:02\n",
      "   ---------------------------------- ----- 12.3/14.4 MB 2.2 MB/s eta 0:00:01\n",
      "   ---------------------------------- ----- 12.6/14.4 MB 2.2 MB/s eta 0:00:01\n",
      "   ------------------------------------- -- 13.4/14.4 MB 2.2 MB/s eta 0:00:01\n",
      "   -------------------------------------- - 13.9/14.4 MB 2.2 MB/s eta 0:00:01\n",
      "   ---------------------------------------  14.2/14.4 MB 2.2 MB/s eta 0:00:01\n",
      "   ---------------------------------------- 14.4/14.4 MB 2.2 MB/s eta 0:00:00\n",
      "Installing collected packages: onnx\n",
      "Successfully installed onnx-1.16.1\n"
     ]
    }
   ],
   "source": [
    "%pip install onnx==1.16.1"
   ]
  },
  {
   "cell_type": "code",
   "execution_count": 2,
   "metadata": {},
   "outputs": [
    {
     "name": "stdout",
     "output_type": "stream",
     "text": [
      "Ultralytics 8.3.79  Python-3.11.5 torch-2.6.0+cpu CPU (AMD Ryzen 7 5800H with Radeon Graphics)\n",
      "YOLOv12s summary (fused): 159 layers, 9,231,267 parameters, 0 gradients, 21.2 GFLOPs\n",
      "\n",
      "\u001b[34m\u001b[1mPyTorch:\u001b[0m starting from 'C:\\Users\\Lewis Do\\Documents\\Semester 6\\CEH_seal\\YOLOv12\\runs\\best.pt' with input shape (1, 3, 640, 640) BCHW and output shape(s) (1, 5, 8400) (18.1 MB)\n",
      "\u001b[31m\u001b[1mrequirements:\u001b[0m Ultralytics requirements ['onnxslim', 'onnxruntime'] not found, attempting AutoUpdate...\n",
      "Collecting onnxslim\n",
      "  Downloading onnxslim-0.1.48-py3-none-any.whl.metadata (4.6 kB)\n",
      "Collecting onnxruntime\n",
      "  Downloading onnxruntime-1.20.1-cp311-cp311-win_amd64.whl.metadata (4.7 kB)\n",
      "Requirement already satisfied: onnx in c:\\users\\lewis do\\anaconda3\\lib\\site-packages (from onnxslim) (1.16.1)\n",
      "Requirement already satisfied: sympy in c:\\users\\lewis do\\anaconda3\\lib\\site-packages (from onnxslim) (1.13.1)\n",
      "Requirement already satisfied: packaging in c:\\users\\lewis do\\appdata\\roaming\\python\\python311\\site-packages (from onnxslim) (23.2)\n",
      "Collecting coloredlogs (from onnxruntime)\n",
      "  Downloading coloredlogs-15.0.1-py2.py3-none-any.whl.metadata (12 kB)\n",
      "Requirement already satisfied: flatbuffers in c:\\users\\lewis do\\anaconda3\\lib\\site-packages (from onnxruntime) (25.2.10)\n",
      "Requirement already satisfied: numpy>=1.21.6 in c:\\users\\lewis do\\anaconda3\\lib\\site-packages (from onnxruntime) (1.26.3)\n",
      "Requirement already satisfied: protobuf in c:\\users\\lewis do\\anaconda3\\lib\\site-packages (from onnxruntime) (5.29.3)\n",
      "Collecting humanfriendly>=9.1 (from coloredlogs->onnxruntime)\n",
      "  Downloading humanfriendly-10.0-py2.py3-none-any.whl.metadata (9.2 kB)\n",
      "Requirement already satisfied: mpmath<1.4,>=1.1.0 in c:\\users\\lewis do\\anaconda3\\lib\\site-packages (from sympy->onnxslim) (1.3.0)\n",
      "Collecting pyreadline3 (from humanfriendly>=9.1->coloredlogs->onnxruntime)\n",
      "  Downloading pyreadline3-3.5.4-py3-none-any.whl.metadata (4.7 kB)\n",
      "Downloading onnxslim-0.1.48-py3-none-any.whl (142 kB)\n",
      "Downloading onnxruntime-1.20.1-cp311-cp311-win_amd64.whl (11.3 MB)\n",
      "   ---------------------------------------- 11.3/11.3 MB 2.2 MB/s eta 0:00:00\n",
      "Downloading coloredlogs-15.0.1-py2.py3-none-any.whl (46 kB)\n",
      "Downloading humanfriendly-10.0-py2.py3-none-any.whl (86 kB)\n",
      "Downloading pyreadline3-3.5.4-py3-none-any.whl (83 kB)\n",
      "Installing collected packages: pyreadline3, onnxslim, humanfriendly, coloredlogs, onnxruntime\n",
      "Successfully installed coloredlogs-15.0.1 humanfriendly-10.0 onnxruntime-1.20.1 onnxslim-0.1.48 pyreadline3-3.5.4\n",
      "\n",
      "\u001b[31m\u001b[1mrequirements:\u001b[0m AutoUpdate success  12.0s, installed 2 packages: ['onnxslim', 'onnxruntime']\n",
      "\u001b[31m\u001b[1mrequirements:\u001b[0m  \u001b[1mRestart runtime or rerun command for updates to take effect\u001b[0m\n",
      "\n",
      "\n",
      "\u001b[34m\u001b[1mONNX:\u001b[0m starting export with onnx 1.16.1 opset 19...\n",
      "\u001b[34m\u001b[1mONNX:\u001b[0m slimming with onnxslim 0.1.48...\n",
      "\u001b[34m\u001b[1mONNX:\u001b[0m export success  15.3s, saved as 'C:\\Users\\Lewis Do\\Documents\\Semester 6\\CEH_seal\\YOLOv12\\runs\\best.onnx' (35.5 MB)\n",
      "\n",
      "Export complete (16.4s)\n",
      "Results saved to \u001b[1mC:\\Users\\Lewis Do\\Documents\\Semester 6\\CEH_seal\\YOLOv12\\runs\u001b[0m\n",
      "Predict:         yolo predict task=detect model=C:\\Users\\Lewis Do\\Documents\\Semester 6\\CEH_seal\\YOLOv12\\runs\\best.onnx imgsz=640  \n",
      "Validate:        yolo val task=detect model=C:\\Users\\Lewis Do\\Documents\\Semester 6\\CEH_seal\\YOLOv12\\runs\\best.onnx imgsz=640 data=/kaggle/input/yamlfile/data_1.yaml  \n",
      "Visualize:       https://netron.app\n"
     ]
    },
    {
     "data": {
      "text/plain": [
       "'C:\\\\Users\\\\Lewis Do\\\\Documents\\\\Semester 6\\\\CEH_seal\\\\YOLOv12\\\\runs\\\\best.onnx'"
      ]
     },
     "execution_count": 2,
     "metadata": {},
     "output_type": "execute_result"
    }
   ],
   "source": [
    "import ultralytics\n",
    "from ultralytics import YOLO\n",
    "\n",
    "model = YOLO('C:/Users/Lewis Do/Documents/Semester 6/CEH_seal/YOLOv12/runs/best.pt') \n",
    "\n",
    "model.export(format='onnx')  # Export to ONNX"
   ]
  },
  {
   "cell_type": "code",
   "execution_count": null,
   "metadata": {},
   "outputs": [],
   "source": []
  }
 ],
 "metadata": {
  "kernelspec": {
   "display_name": "base",
   "language": "python",
   "name": "python3"
  },
  "language_info": {
   "codemirror_mode": {
    "name": "ipython",
    "version": 3
   },
   "file_extension": ".py",
   "mimetype": "text/x-python",
   "name": "python",
   "nbconvert_exporter": "python",
   "pygments_lexer": "ipython3",
   "version": "3.11.5"
  }
 },
 "nbformat": 4,
 "nbformat_minor": 2
}
